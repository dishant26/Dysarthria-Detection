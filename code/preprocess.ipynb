{
  "nbformat": 4,
  "nbformat_minor": 0,
  "metadata": {
    "colab": {
      "provenance": []
    },
    "kernelspec": {
      "name": "python3",
      "display_name": "Python 3"
    },
    "language_info": {
      "name": "python"
    }
  },
  "cells": [
    {
      "cell_type": "code",
      "source": [
        "from google.colab import drive\n",
        "drive.mount('/content/drive')"
      ],
      "metadata": {
        "colab": {
          "base_uri": "https://localhost:8080/"
        },
        "id": "aSiebbN9z6DO",
        "outputId": "aafd6de0-f869-4cc8-ea8b-ea6ce485cad6"
      },
      "execution_count": null,
      "outputs": [
        {
          "output_type": "stream",
          "name": "stdout",
          "text": [
            "Mounted at /content/drive\n"
          ]
        }
      ]
    },
    {
      "cell_type": "code",
      "source": [
        "import tarfile\n",
        "tar = tarfile.open(\"/content/drive/MyDrive/Dysarthria/F.tar.bz2\", \"r:bz2\")\n",
        "tar.extractall()\n",
        "tar.close()"
      ],
      "metadata": {
        "id": "0-AtLSB60KJw"
      },
      "execution_count": null,
      "outputs": []
    },
    {
      "cell_type": "code",
      "source": [
        "tar = tarfile.open(\"/content/drive/MyDrive/Dysarthria/FC.tar.bz2\", \"r:bz2\")\n",
        "tar.extractall()\n",
        "tar.close()"
      ],
      "metadata": {
        "id": "SyfZAp500XiF"
      },
      "execution_count": null,
      "outputs": []
    },
    {
      "cell_type": "code",
      "source": [
        "tar = tarfile.open(\"/content/drive/MyDrive/Dysarthria/M.tar.bz2\", \"r:bz2\")\n",
        "tar.extractall()\n",
        "tar.close()"
      ],
      "metadata": {
        "id": "QOU-QBCj0dC1"
      },
      "execution_count": null,
      "outputs": []
    },
    {
      "cell_type": "code",
      "source": [
        "tar = tarfile.open(\"/content/drive/MyDrive/Dysarthria/MC.tar.bz2\", \"r:bz2\")\n",
        "tar.extractall()\n",
        "tar.close()"
      ],
      "metadata": {
        "id": "JhnYhz5H0d7V"
      },
      "execution_count": null,
      "outputs": []
    },
    {
      "cell_type": "code",
      "source": [
        "!pip install pydub"
      ],
      "metadata": {
        "id": "kfNhQH6R27Re",
        "colab": {
          "base_uri": "https://localhost:8080/"
        },
        "outputId": "ec1a644d-773b-4c85-83cf-0f156aa43718"
      },
      "execution_count": null,
      "outputs": [
        {
          "output_type": "stream",
          "name": "stdout",
          "text": [
            "Looking in indexes: https://pypi.org/simple, https://us-python.pkg.dev/colab-wheels/public/simple/\n",
            "Collecting pydub\n",
            "  Downloading pydub-0.25.1-py2.py3-none-any.whl (32 kB)\n",
            "Installing collected packages: pydub\n",
            "Successfully installed pydub-0.25.1\n"
          ]
        }
      ]
    },
    {
      "cell_type": "code",
      "source": [
        "F_dy = [\"F01/Session1/wav_headMic\", \"F03/Session1/wav_headMic\", \"F03/Session2/wav_headMic\", \"F03/Session3/wav_headMic\",\"F04/Session1/wav_arrayMic\", \"F04/Session2/wav_headMic\"]\n",
        "F_non = [\"FC01/Session1/wav_headMic\", \"FC02/Session2/wav_arrayMic\", \"FC02/Session3/wav_headMic\", \"FC03/Session1/wav_headMic\", \"FC03/Session2/wav_headMic\", \"FC03/Session3/wav_headMic\"]\n",
        "M_dy = [\"M01/Session1/wav_headMic\", \"M01/Session2_3/wav_headMic\", \"M02/Session1/wav_headMic\", \"M02/Session2/wav_headMic\", \"M03/Session2/wav_headMic\", \"M04/Session1/wav_arrayMic\", \"M04/Session2/wav_headMic\", \"M05/Session1/wav_headMic\", \"M05/Session2/wav_headMic\"]\n",
        "M_non = [\"MC01/Session1/wav_headMic\", \"MC01/Session2/wav_headMic\", \"MC01/Session3/wav_headMic\", \"MC02/Session1/wav_headMic\", \"MC02/Session2/wav_headMic\", \"MC03/Session1/wav_headMic\", \"MC03/Session2/wav_headMic\", \"MC04/Session1/wav_headMic\", \"MC04/Session2/wav_arrayMic\"]\n",
        "dy = F_dy + M_dy\n",
        "non = F_non + M_non"
      ],
      "metadata": {
        "id": "yextSnIt512D"
      },
      "execution_count": null,
      "outputs": []
    },
    {
      "cell_type": "code",
      "source": [
        "import os\n",
        "dy_files = []\n",
        "for folder in dy:\n",
        "    files = os.listdir(folder)\n",
        "    full_name = []\n",
        "    for name in files:\n",
        "      full_name.append(os.path.join(folder, name))\n",
        "    dy_files += full_name\n",
        "\n",
        "\n",
        "non_files = []\n",
        "for folder in non:\n",
        "    files = os.listdir(folder)\n",
        "    full_name = []\n",
        "    for name in files:\n",
        "      full_name.append(os.path.join(folder, name))\n",
        "    non_files += full_name"
      ],
      "metadata": {
        "id": "ZXCTNM7e8Fzf"
      },
      "execution_count": null,
      "outputs": []
    },
    {
      "cell_type": "code",
      "source": [
        "len(dy_files), len(non_files)"
      ],
      "metadata": {
        "colab": {
          "base_uri": "https://localhost:8080/"
        },
        "id": "ICJr3va38Qix",
        "outputId": "589840cd-540c-482b-9230-748fcca61d07"
      },
      "execution_count": null,
      "outputs": [
        {
          "output_type": "execute_result",
          "data": {
            "text/plain": [
              "(3323, 5862)"
            ]
          },
          "metadata": {},
          "execution_count": 10
        }
      ]
    },
    {
      "cell_type": "code",
      "source": [
        "x = dy_files + non_files\n",
        "y = 3323*[1] + 5862*[0]"
      ],
      "metadata": {
        "id": "kDf5jT_DCh8h"
      },
      "execution_count": null,
      "outputs": []
    },
    {
      "cell_type": "code",
      "source": [
        "import numpy as np\n",
        "x = np.array(x)\n",
        "y = np.array(y)\n",
        "\n",
        "def unison_shuffled_copies(a, b):\n",
        "    assert len(a) == len(b)\n",
        "    p = np.random.permutation(len(a))\n",
        "    return a[p], b[p]\n",
        "x, y = unison_shuffled_copies(x, y)"
      ],
      "metadata": {
        "id": "XDIN9m_F8oSd"
      },
      "execution_count": null,
      "outputs": []
    },
    {
      "cell_type": "code",
      "source": [
        "from sklearn.model_selection import train_test_split\n",
        "X_train, X_test, y_train, y_test = train_test_split(x, y, test_size=0.2, random_state=42)\n",
        "\n",
        "X_train.shape, X_test.shape, y_train.shape, y_test.shape"
      ],
      "metadata": {
        "id": "8fAjsVJh_0ny",
        "colab": {
          "base_uri": "https://localhost:8080/"
        },
        "outputId": "d793e889-2c68-4d0f-b3d8-99e2809db57b"
      },
      "execution_count": null,
      "outputs": [
        {
          "output_type": "execute_result",
          "data": {
            "text/plain": [
              "((7348,), (1837,), (7348,), (1837,))"
            ]
          },
          "metadata": {},
          "execution_count": 13
        }
      ]
    },
    {
      "cell_type": "code",
      "source": [
        "import numpy as np\n",
        "import pandas as pd\n",
        "import os\n",
        "import re\n",
        "import warnings\n",
        "import matplotlib.pyplot as plt\n",
        "import seaborn as sns\n",
        "import librosa\n",
        "import librosa.display\n",
        "from sklearn.preprocessing import minmax_scale\n",
        "import IPython.display as ipd\n",
        "from tqdm import tqdm\n",
        "from sklearn.preprocessing import StandardScaler\n",
        "from sklearn.model_selection import train_test_split\n",
        "from sklearn.metrics import classification_report, confusion_matrix, roc_auc_score, roc_curve, recall_score\n",
        "warnings.filterwarnings(\"ignore\")"
      ],
      "metadata": {
        "id": "pdcnar25AD6I"
      },
      "execution_count": null,
      "outputs": []
    },
    {
      "cell_type": "code",
      "source": [
        "from pydub import AudioSegment\n",
        "from pydub.playback import play\n",
        "import random"
      ],
      "metadata": {
        "id": "O1fFrrVXTj8k"
      },
      "execution_count": null,
      "outputs": []
    },
    {
      "cell_type": "code",
      "source": [
        "X_train_final = []\n",
        "Y_train_final = []\n",
        "X_test_final = []\n",
        "Y_test_final = []\n",
        "\n"
      ],
      "metadata": {
        "id": "TiCOsDeRBnIP"
      },
      "execution_count": null,
      "outputs": []
    },
    {
      "cell_type": "code",
      "source": [
        "for num, i in tqdm(enumerate(X_train)):\n",
        "  try:\n",
        "    a , sr = librosa.load(i)\n",
        "    mean_mfcc = np.mean(librosa.feature.mfcc(y=a, sr=sr, n_mfcc=128),axis=1)\n",
        "    X_train_final.append(mean_mfcc)\n",
        "    Y_train_final.append(y_train[num])\n",
        "  except EOFError:\n",
        "    pass"
      ],
      "metadata": {
        "colab": {
          "base_uri": "https://localhost:8080/"
        },
        "id": "Ul8QqFL8E6qN",
        "outputId": "3c716a15-42bc-482f-9905-1ac2c517898c"
      },
      "execution_count": null,
      "outputs": [
        {
          "output_type": "stream",
          "name": "stderr",
          "text": [
            "7348it [16:23,  7.47it/s]\n"
          ]
        }
      ]
    },
    {
      "cell_type": "code",
      "source": [
        "for num, i in tqdm(enumerate(X_test)):\n",
        "  try:\n",
        "    a , sr = librosa.load(i)\n",
        "    mean_mfcc = np.mean(librosa.feature.mfcc(y=a, sr=sr, n_mfcc=128),axis=1)\n",
        "    X_test_final.append(mean_mfcc)\n",
        "    Y_test_final.append(y_test[num])\n",
        "  except EOFError:\n",
        "    pass"
      ],
      "metadata": {
        "colab": {
          "base_uri": "https://localhost:8080/"
        },
        "id": "JxD-0AfcTc4O",
        "outputId": "7b226442-6f29-49b9-c036-0915d425638f"
      },
      "execution_count": null,
      "outputs": [
        {
          "output_type": "stream",
          "name": "stderr",
          "text": [
            "1837it [03:56,  7.77it/s]\n"
          ]
        }
      ]
    },
    {
      "cell_type": "code",
      "source": [
        "X_train_aug = []\n",
        "Y_train_aug = []\n",
        "X_test_aug = []\n",
        "Y_test_aug = []"
      ],
      "metadata": {
        "id": "uAWzL8YRjrcf"
      },
      "execution_count": null,
      "outputs": []
    },
    {
      "cell_type": "code",
      "source": [
        "sound = [15, -15]\n",
        "time = [0.5, 2]\n",
        "choice = ['s', 't']\n",
        "for num, i in tqdm(enumerate(X_train)):\n",
        "  try:\n",
        "    c = random.choice(choice)\n",
        "    if c == 's':\n",
        "      s = random.choice(sound)\n",
        "      song = AudioSegment.from_wav(i)\n",
        "      song_new = song + s\n",
        "      song_new.export(\"/content/song_new.wav\", format='wav')\n",
        "      a , sr = librosa.load(\"/content/song_new.wav\")\n",
        "      mean_mfcc = np.mean(librosa.feature.mfcc(y=a, sr=sr, n_mfcc=128),axis=1)\n",
        "      X_train_aug.append(mean_mfcc)\n",
        "      Y_train_aug.append(y_train[num])\n",
        "    else:\n",
        "      t = random.choice(time)\n",
        "      a , sr = librosa.load(i)\n",
        "      song_new = librosa.effects.time_stretch(a, rate=t)\n",
        "      mean_mfcc = np.mean(librosa.feature.mfcc(y=a, sr=sr, n_mfcc=128),axis=1)\n",
        "      X_train_aug.append(mean_mfcc)\n",
        "      Y_train_aug.append(y_train[num])\n",
        "  except:\n",
        "    pass"
      ],
      "metadata": {
        "colab": {
          "base_uri": "https://localhost:8080/"
        },
        "id": "AiojQusgTn1O",
        "outputId": "a83ca335-4f0a-4dcd-b61e-93ac004bd463"
      },
      "execution_count": null,
      "outputs": [
        {
          "output_type": "stream",
          "name": "stderr",
          "text": [
            "7348it [19:38,  6.23it/s]\n"
          ]
        }
      ]
    },
    {
      "cell_type": "code",
      "source": [
        "sound = [15, -15]\n",
        "time = [0.5, 2]\n",
        "choice = ['s', 't']\n",
        "X_test_aug = []\n",
        "for i in tqdm(X_test):\n",
        "  try:\n",
        "    c = random.choice(choice)\n",
        "    if c == 's':\n",
        "      s = random.choice(sound)\n",
        "      song = AudioSegment.from_wav(i)\n",
        "      song_new = song + s\n",
        "      song_new.export(\"/content/song_new.wav\", format='wav')\n",
        "      a , sr = librosa.load(\"/content/song_new.wav\")\n",
        "      mean_mfcc = np.mean(librosa.feature.mfcc(y=a, sr=sr, n_mfcc=128),axis=1)\n",
        "      X_test_aug.append(mean_mfcc)\n",
        "      Y_test_aug.append(y_test[num])\n",
        "    else:\n",
        "      t = random.choice(time)\n",
        "      a , sr = librosa.load(i)\n",
        "      song_new = librosa.effects.time_stretch(a, rate=t)\n",
        "      mean_mfcc = np.mean(librosa.feature.mfcc(y=a, sr=sr, n_mfcc=128),axis=1)\n",
        "      X_test_aug.append(mean_mfcc)\n",
        "      Y_test_aug.append(y_test[num])\n",
        "  except:\n",
        "    pass"
      ],
      "metadata": {
        "colab": {
          "base_uri": "https://localhost:8080/"
        },
        "id": "uYtOpIPxTmu6",
        "outputId": "214165d7-c726-4452-8464-afb589ed3cbb"
      },
      "execution_count": null,
      "outputs": [
        {
          "output_type": "stream",
          "name": "stderr",
          "text": [
            "100%|██████████| 1837/1837 [05:18<00:00,  5.77it/s]\n"
          ]
        }
      ]
    },
    {
      "cell_type": "code",
      "source": [
        "X_train_final = np.array(X_train_final)\n",
        "Y_train_final = np.array(Y_train_final)\n",
        "\n",
        "X_test_final = np.array(X_test_final)\n",
        "Y_test_final = np.array(Y_test_final)\n",
        "\n",
        "X_train_aug = np.array(X_train_aug)\n",
        "Y_train_aug = np.array(Y_train_aug)\n",
        "\n",
        "X_test_aug = np.array(X_test_aug)\n",
        "Y_test_aug = np.array(Y_test_aug)\n",
        "\n",
        "print(X_train_final.shape, Y_train_final.shape, X_test_final.shape, Y_test_final.shape)\n",
        "print(X_train_aug.shape, Y_train_aug.shape, X_test_aug.shape, Y_test_aug.shape)"
      ],
      "metadata": {
        "colab": {
          "base_uri": "https://localhost:8080/"
        },
        "id": "IcrMZY2Et1V4",
        "outputId": "27c61712-5e78-40e1-8519-fde5fb35ccfe"
      },
      "execution_count": null,
      "outputs": [
        {
          "output_type": "stream",
          "name": "stdout",
          "text": [
            "(7346, 128) (7346,) (1837, 128) (1837,)\n",
            "(7346, 128) (7346,) (1837, 128) (0,)\n"
          ]
        }
      ]
    },
    {
      "cell_type": "code",
      "source": [
        "Y_test_aug = Y_test_final"
      ],
      "metadata": {
        "id": "y1m9XnBpqi5z"
      },
      "execution_count": null,
      "outputs": []
    },
    {
      "cell_type": "code",
      "source": [
        "print(X_train_final.shape, Y_train_final.shape, X_test_final.shape, Y_test_final.shape)\n",
        "print(X_train_aug.shape, Y_train_aug.shape, X_test_aug.shape, Y_test_aug.shape)"
      ],
      "metadata": {
        "colab": {
          "base_uri": "https://localhost:8080/"
        },
        "id": "eQORANpaqnVD",
        "outputId": "283d2ecc-f510-407e-f3cd-682611693dbc"
      },
      "execution_count": null,
      "outputs": [
        {
          "output_type": "stream",
          "name": "stdout",
          "text": [
            "(7346, 128) (7346,) (1837, 128) (1837,)\n",
            "(7346, 128) (7346,) (1837, 128) (1837,)\n"
          ]
        }
      ]
    },
    {
      "cell_type": "code",
      "source": [
        "cd \"/content/drive/MyDrive/Dysarthria/augmented_entire\""
      ],
      "metadata": {
        "id": "mW1HpFu1ZUKB",
        "colab": {
          "base_uri": "https://localhost:8080/"
        },
        "outputId": "9aad0638-2667-404d-8fae-2c6b1dba9bcd"
      },
      "execution_count": null,
      "outputs": [
        {
          "output_type": "stream",
          "name": "stdout",
          "text": [
            "/content/drive/MyDrive/Dysarthria\n"
          ]
        }
      ]
    },
    {
      "cell_type": "code",
      "source": [
        "mkdir augmented_entire"
      ],
      "metadata": {
        "id": "TZ-O01Aka5xr"
      },
      "execution_count": null,
      "outputs": []
    },
    {
      "cell_type": "code",
      "source": [
        "np.save(\"/content/drive/MyDrive/Dysarthia/X_train_og.npy\", X_train_final)\n",
        "np.save(\"/content/drive/MyDrive/Dysarthia/y_train_og.npy\", Y_train_final)"
      ],
      "metadata": {
        "id": "z9EYAqsMZY14"
      },
      "execution_count": null,
      "outputs": []
    },
    {
      "cell_type": "code",
      "source": [
        "np.save(\"/content/drive/MyDrive/Dysarthria/augmented_entire/X_train_final.npy\", X_train_final)\n",
        "np.save(\"/content/drive/MyDrive/Dysarthria/augmented_entire/Y_train_final.npy\", Y_train_final)\n",
        "np.save(\"/content/drive/MyDrive/Dysarthria/augmented_entire/X_test_final.npy\", X_test_final)\n",
        "np.save(\"/content/drive/MyDrive/Dysarthria/augmented_entire/Y_test_final.npy\", Y_test_final)\n",
        "np.save(\"/content/drive/MyDrive/Dysarthria/augmented_entire/X_train_aug.npy\", X_train_aug)\n",
        "np.save(\"/content/drive/MyDrive/Dysarthria/augmented_entire/Y_train_aug.npy\", Y_train_aug)\n",
        "np.save(\"/content/drive/MyDrive/Dysarthria/augmented_entire/X_test_aug.npy\", X_test_aug)\n",
        "np.save(\"/content/drive/MyDrive/Dysarthria/augmented_entire/Y_test_aug.npy\", Y_test_aug)\n"
      ],
      "metadata": {
        "id": "UpWrQBdzZyMT"
      },
      "execution_count": null,
      "outputs": []
    },
    {
      "cell_type": "code",
      "source": [
        "ls \"/content/drive/MyDrive/Dysarthria/augmented_entire/\""
      ],
      "metadata": {
        "id": "XmbeDUkvrEpQ",
        "outputId": "757d8e8b-dc51-42a4-b9d4-6238f3d1102a",
        "colab": {
          "base_uri": "https://localhost:8080/"
        }
      },
      "execution_count": null,
      "outputs": [
        {
          "output_type": "stream",
          "name": "stdout",
          "text": [
            "X_test_aug.npy    X_train_aug.npy    Y_test_aug.npy    Y_train_aug.npy\n",
            "X_test_final.npy  X_train_final.npy  Y_test_final.npy  Y_train_final.npy\n"
          ]
        }
      ]
    },
    {
      "cell_type": "code",
      "source": [
        "for num, i in tqdm(enumerate(X_test)):\n",
        "  try:\n",
        "    a , sr = librosa.load(i)\n",
        "    mean_mfcc = np.mean(librosa.feature.mfcc(y=a, sr=sr, n_mfcc=128),axis=1)\n",
        "    X_test_final.append(mean_mfcc)\n",
        "    Y_test_final.append(y_test[num])\n",
        "  except EOFError:\n",
        "    pass"
      ],
      "metadata": {
        "colab": {
          "base_uri": "https://localhost:8080/"
        },
        "id": "CI-vyeBBNRaZ",
        "outputId": "5aed9443-ea08-47bd-880d-b675018a322f"
      },
      "execution_count": null,
      "outputs": [
        {
          "output_type": "stream",
          "name": "stderr",
          "text": [
            "100%|██████████| 1837/1837 [03:51<00:00,  7.92it/s]\n"
          ]
        }
      ]
    },
    {
      "cell_type": "code",
      "source": [],
      "metadata": {
        "colab": {
          "base_uri": "https://localhost:8080/"
        },
        "id": "PM1y4w-Yr_SY",
        "outputId": "b40f3dff-df95-4f09-ef3e-4789095d0d59"
      },
      "execution_count": null,
      "outputs": [
        {
          "output_type": "execute_result",
          "data": {
            "text/plain": [
              "((7346, 128), (7346,))"
            ]
          },
          "metadata": {},
          "execution_count": 47
        }
      ]
    },
    {
      "cell_type": "code",
      "source": [
        "np.save(\"/content/drive/MyDrive/Dysarthia/X_test_og.npy\", X_test_final)\n",
        "np.save(\"/content/drive/MyDrive/Dysarthia/y_test_og.npy\", Y_test_final)"
      ],
      "metadata": {
        "id": "1jK9LcCxcNJD"
      },
      "execution_count": null,
      "outputs": []
    },
    {
      "cell_type": "code",
      "source": [],
      "metadata": {
        "id": "_fO7hOBgaK-L"
      },
      "execution_count": null,
      "outputs": []
    },
    {
      "cell_type": "code",
      "source": [
        "sound = [15, -15]\n",
        "time = [0.5, 2]\n",
        "choice = ['s', 't']\n",
        "X_test_aug = []\n",
        "for i in tqdm(X_test):\n",
        "  try:\n",
        "    c = random.choice(choice)\n",
        "    if c == 's':\n",
        "      s = random.choice(sound)\n",
        "      song = AudioSegment.from_wav(i)\n",
        "      song_new = song + s\n",
        "      song_new.export(\"/content/song_new.wav\", format='wav')\n",
        "      a , sr = librosa.load(\"/content/song_new.wav\")\n",
        "      mean_mfcc = np.mean(librosa.feature.mfcc(y=a, sr=sr, n_mfcc=128),axis=1)\n",
        "      X_test_aug.append(mean_mfcc)\n",
        "    else:\n",
        "      t = random.choice(time)\n",
        "      a , sr = librosa.load(i)\n",
        "      song_new = librosa.effects.time_stretch(a, rate=t)\n",
        "      mean_mfcc = np.mean(librosa.feature.mfcc(y=a, sr=sr, n_mfcc=128),axis=1)\n",
        "      X_test_aug.append(mean_mfcc)\n",
        "  except EOFError:\n",
        "    pass"
      ],
      "metadata": {
        "colab": {
          "base_uri": "https://localhost:8080/"
        },
        "id": "9FkFpkrEOiEr",
        "outputId": "ff2df0ed-6f6d-4fd8-88c2-d213de1890b0"
      },
      "execution_count": null,
      "outputs": [
        {
          "output_type": "stream",
          "name": "stderr",
          "text": [
            "100%|██████████| 1837/1837 [04:38<00:00,  6.60it/s]\n"
          ]
        }
      ]
    },
    {
      "cell_type": "code",
      "source": [
        "len(X_test_aug)"
      ],
      "metadata": {
        "colab": {
          "base_uri": "https://localhost:8080/"
        },
        "id": "pJLTxaaIbjdX",
        "outputId": "bd18a80c-c24b-4ce9-8388-ac059cf6a51e"
      },
      "execution_count": null,
      "outputs": [
        {
          "output_type": "execute_result",
          "data": {
            "text/plain": [
              "1837"
            ]
          },
          "metadata": {},
          "execution_count": 39
        }
      ]
    },
    {
      "cell_type": "code",
      "source": [
        "np.save(\"/content/drive/MyDrive/Dysarthia/X_test_aug.npy\", X_test_aug)\n",
        "np.save(\"/content/drive/MyDrive/Dysarthia/y_test_aug.npy\", y_test)"
      ],
      "metadata": {
        "id": "pPdTHSQbcqFM"
      },
      "execution_count": null,
      "outputs": []
    },
    {
      "cell_type": "code",
      "source": [
        "ls \"/content/drive/MyDrive/Dysarthia/\""
      ],
      "metadata": {
        "colab": {
          "base_uri": "https://localhost:8080/"
        },
        "id": "sOvT8KwKc711",
        "outputId": "fd0a7eee-c931-4d49-ff0d-8804ce6f2d81"
      },
      "execution_count": null,
      "outputs": [
        {
          "output_type": "stream",
          "name": "stdout",
          "text": [
            " count.ipynb                                                   M.tar.bz2\n",
            " data_enitre.csv                                               preprocess.ipynb\n",
            " dysarthia-classification-using-cnns-on-audios.ipynb           X.npy\n",
            " Dysarthia.gdoc                                                X_test_aug.npy\n",
            " Dysarthria.gsheet                                             X_test_og.npy\n",
            " FC.tar.bz2                                                    X_train_og.npy\n",
            " features.csv                                                  y.npy\n",
            " F.tar.bz2                                                     y_test_aug.npy\n",
            " MC.tar.bz2                                                    y_test_og.npy\n",
            "'MFCC Feature Extraction and Exploratory Data Analysis.gdoc'   y_train_og.npy\n"
          ]
        }
      ]
    },
    {
      "cell_type": "code",
      "source": [],
      "metadata": {
        "id": "gccLVo8Nc_P2"
      },
      "execution_count": null,
      "outputs": []
    }
  ]
}